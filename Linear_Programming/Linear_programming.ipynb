{
 "cells": [
  {
   "cell_type": "markdown",
   "metadata": {},
   "source": [
    "## PuLP"
   ]
  },
  {
   "cell_type": "code",
   "execution_count": 1,
   "metadata": {},
   "outputs": [],
   "source": [
    "from pulp import LpMaximize, LpProblem, LpStatus, lpSum, LpVariable"
   ]
  },
  {
   "cell_type": "code",
   "execution_count": 2,
   "metadata": {},
   "outputs": [],
   "source": [
    "# Create binary decision variables\n",
    "import pulp\n",
    "import csv\n",
    "\n",
    "problem = pulp.LpProblem(\"ProfessorAssignment\", pulp.LpMaximize)\n",
    "\n",
    "\n",
    "data = []\n",
    "\n",
    "csv_file = 'Schedule_preferances.csv'\n",
    "\n",
    "with open(csv_file, 'r') as file:\n",
    "    csv_reader = csv.reader(file)\n",
    "     # Iterate over each line in the file\n",
    "    for row in csv_reader:\n",
    "        # Convert each value in the row to an integer and append it to the data array\n",
    "        int_row = [int(value) for value in row]\n",
    "        data.append(int_row)\n",
    "\n",
    "\n",
    " "
   ]
  },
  {
   "cell_type": "code",
   "execution_count": 3,
   "metadata": {},
   "outputs": [],
   "source": [
    "professors = [\"Teng\", \"Durney\", \"Knaeble\",\"Sanati\", \"Knutson\",\"Lyde\", \"Sajal\",\"Jones\", \"Rudolph\",\"Aldous\", \"Tang\",\"Zeng\", \"Anderson\",\"Harrison\", \"Wagstaff\",\"Mortenson\", \"Sharp\",\"Jenson\", \"Thackeray\",\"Embry\", \"Adjuncts\"]\n",
    "classes = []\n",
    "with open('Classes.csv', 'r') as file:\n",
    "    classes = file.read().split()\n",
    "\n",
    "#To print professor instead of just index and the class instead of number\n",
    "index_to_professor = {i: professor for i, professor in enumerate(professors)}\n",
    "index_to_class = {i: class_ for i, class_ in enumerate(classes)}"
   ]
  },
  {
   "cell_type": "code",
   "execution_count": 4,
   "metadata": {},
   "outputs": [],
   "source": [
    "prof_class_assign = pulp.LpVariable.dicts(\"Assign\", \n",
    "                                           [(professor, class_) for professor in range(len(data)) for class_ in range(len(data[0]))], \n",
    "                                           cat=pulp.LpBinary)\n",
    "\n",
    "# Define the objective function\n",
    "problem += pulp.lpSum(data[i][j] * prof_class_assign[(i, j)] for i in range(len(data)) for j in range(len(data[0])))\n",
    "\n",
    "for j in range(len(data[0])):\n",
    "    problem += pulp.lpSum(prof_class_assign[(i, j)] for i in range(len(data))) == 1\n",
    "\n",
    "for i in range(len(data)):\n",
    "    problem += pulp.lpSum(prof_class_assign[(i, j)] for j in range(len(data[i]))) <= 4\n",
    "\n"
   ]
  },
  {
   "cell_type": "code",
   "execution_count": 5,
   "metadata": {},
   "outputs": [
    {
     "name": "stdout",
     "output_type": "stream",
     "text": [
      "Optimal solution found!\n",
      "Objective score: 249\n",
      "Teng is assigned to 2300TA\n",
      "Teng is assigned to 2450TA\n",
      "Teng is assigned to 2450MA\n",
      "Teng is assigned to 2810TA\n",
      "Durney is assigned to 3060TE\n",
      "Durney is assigned to 339TE\n",
      "Durney is assigned to 3540MA\n",
      "Durney is assigned to 3680TM\n",
      "Knaeble is assigned to 2300ME\n",
      "Knaeble is assigned to 2420MA\n",
      "Knaeble is assigned to 3310MA\n",
      "Knaeble is assigned to 3320MA\n",
      "Sanati is assigned to 3520TA\n",
      "Sanati is assigned to 3520TA\n",
      "Sanati is assigned to 4700MA\n",
      "Sanati is assigned to 6730MA\n",
      "Knutson is assigned to 305GTE\n",
      "Knutson is assigned to 305GME\n",
      "Knutson is assigned to 3450MA\n",
      "Knutson is assigned to 3450TA\n",
      "Lyde is assigned to 3410TA\n",
      "Lyde is assigned to 4450MA\n",
      "Lyde is assigned to 4450MA\n",
      "Lyde is assigned to 4490MA\n",
      "Sajal is assigned to 2600TE\n",
      "Sajal is assigned to 2690MA\n",
      "Sajal is assigned to 2690TE\n",
      "Sajal is assigned to 3100MA\n",
      "Jones is assigned to 2370ME\n",
      "Jones is assigned to 2420TM\n",
      "Jones is assigned to 2420TA\n",
      "Jones is assigned to 2810TM\n",
      "Rudolph is assigned to 2600TA\n",
      "Rudolph is assigned to 4470MA\n",
      "Rudolph is assigned to 6470TE\n",
      "Aldous is assigned to 1400MM\n",
      "Aldous is assigned to 1400MA\n",
      "Aldous is assigned to 1400MA\n",
      "Aldous is assigned to 1400ME\n",
      "Tang is assigned to 1410ME\n",
      "Tang is assigned to 2420TE\n",
      "Tang is assigned to 3060TM\n",
      "Tang is assigned to 4230TE\n",
      "Zeng is assigned to 2300TA\n",
      "Zeng is assigned to 3240TA\n",
      "Zeng is assigned to 4470TA\n",
      "Zeng is assigned to 6150ME\n",
      "Anderson is assigned to 1410TA\n",
      "Anderson is assigned to 1410MA\n",
      "Anderson is assigned to 1410TA\n",
      "Anderson is assigned to 1410TM\n",
      "Harrison is assigned to 2370TA\n",
      "Harrison is assigned to 2370MA\n",
      "Harrison is assigned to 2370TM\n",
      "Harrison is assigned to 3370TA\n",
      "Wagstaff is assigned to 3270TA\n",
      "Wagstaff is assigned to 3380TA\n",
      "Wagstaff is assigned to 4660MA\n",
      "Wagstaff is assigned to 4690MA\n",
      "Mortenson is assigned to 2600MA\n",
      "Mortenson is assigned to 3310TM\n",
      "Mortenson is assigned to 4380MA\n",
      "Mortenson is assigned to 4380TA\n",
      "Sharp is assigned to 1400TM\n",
      "Sharp is assigned to 2550TM\n",
      "Sharp is assigned to 2550ME\n",
      "Sharp is assigned to 305GMA\n",
      "Jenson is assigned to 2550TA\n",
      "Jenson is assigned to 3410TA\n",
      "Jenson is assigned to 3660MA\n",
      "Jenson is assigned to 4400MA\n",
      "Thackeray is assigned to 2450TM\n",
      "Thackeray is assigned to 3250ME\n",
      "Thackeray is assigned to 3260TA\n",
      "Thackeray is assigned to 6300TA\n",
      "Embry is assigned to 1030MM\n",
      "Embry is assigned to 1030TM\n",
      "Embry is assigned to 1400TA\n",
      "Embry is assigned to 1400TA\n",
      "Adjuncts is assigned to 3530ME\n",
      "Adjuncts is assigned to 4900ME\n"
     ]
    }
   ],
   "source": [
    "problem.solve()\n",
    "\n",
    "# Check the status of the solution\n",
    "if pulp.LpStatus[problem.status] == \"Optimal\":\n",
    "    print(\"Optimal solution found!\")\n",
    "    print(f\"Objective score: {problem.objective.value()}\")\n",
    "    for (i, j) in prof_class_assign:\n",
    "            if prof_class_assign[(i,j)].varValue == 1:\n",
    "                professor_name = index_to_professor[i]\n",
    "                class_name = index_to_class[j]\n",
    "                print(f\"{professor_name} is assigned to {class_name}\")\n",
    "else:\n",
    "    print(\"No optimal solution found.\")"
   ]
  }
 ],
 "metadata": {
  "kernelspec": {
   "display_name": "base",
   "language": "python",
   "name": "python3"
  },
  "language_info": {
   "codemirror_mode": {
    "name": "ipython",
    "version": 3
   },
   "file_extension": ".py",
   "mimetype": "text/x-python",
   "name": "python",
   "nbconvert_exporter": "python",
   "pygments_lexer": "ipython3",
   "version": "3.11.4"
  },
  "orig_nbformat": 4
 },
 "nbformat": 4,
 "nbformat_minor": 2
}
